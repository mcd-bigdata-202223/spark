{
 "cells": [
  {
   "cell_type": "code",
   "execution_count": 2,
   "metadata": {},
   "outputs": [
    {
     "name": "stdout",
     "output_type": "stream",
     "text": [
      "22/12/10 10:35:02 WARN Utils: Your hostname, bigdata-vmware resolves to a loopback address: 127.0.1.1; using 192.168.10.135 instead (on interface ens33)\n",
      "22/12/10 10:35:02 WARN Utils: Set SPARK_LOCAL_IP if you need to bind to another address\n"
     ]
    },
    {
     "name": "stderr",
     "output_type": "stream",
     "text": [
      "Setting default log level to \"WARN\".\n",
      "To adjust logging level use sc.setLogLevel(newLevel). For SparkR, use setLogLevel(newLevel).\n"
     ]
    },
    {
     "name": "stdout",
     "output_type": "stream",
     "text": [
      "22/12/10 10:35:03 WARN NativeCodeLoader: Unable to load native-hadoop library for your platform... using builtin-java classes where applicable\n"
     ]
    }
   ],
   "source": [
    "from pyspark.sql import SparkSession\n",
    "\n",
    "spark = SparkSession\\\n",
    "        .builder\\\n",
    "        .appName(\"Tutorial4_Example\")\\\n",
    "        .getOrCreate()"
   ]
  },
  {
   "cell_type": "markdown",
   "metadata": {},
   "source": [
    "The Census Income dataset has 48,842 samples. \n",
    "\n",
    "Each sample contains the following information about an individual:\n",
    "- age: the age of an individual.\n",
    "    - Integer greater than 0.\n",
    "- workclass: a general term representing the employment status of an individual.\n",
    "    - Private, Selfempnotinc, Selfempinc, Federalgov, Localgov, Stategov, Withoutpay, Neverworked.\n",
    "- fnlwgt : final weight. This is the number of people the census believes the entry represents.\n",
    "    - Integer greater than 0.\n",
    "- education : the highest level of education achieved by an individual.\n",
    "    - Bachelors, Somecollege, 11th, HSgrad, Profschool, Assocacdm, Assocvoc, 9th, 7th8th, 12th, Masters, 1st4th, 10th, Doctorate, 5th6th, Preschool.\n",
    "- education-num: the highest level of education achieved in numerical form.\n",
    "    - Integer greater than 0.\n",
    "- marital-status: marital status of an individual.\n",
    "    - Marriedcivspouse, Divorced, Nevermarried, Separated, Widowed, Marriedspouseabsent, MarriedAFspouse.\n",
    "- occupation: the general type of occupation of an individual.\n",
    "    - Techsupport, Craftrepair, Otherservice, Sales, Execmanagerial, Profspecialty, Handlerscleaners, Machineopinspct, Admclerical, Farmingfishing, Transportmoving, Privhouseserv, Protectiveserv, ArmedForces.\n",
    "- relationship: represents what this individual is relative to others. For example an individual could be a Husband. Each entry only has one relationship attribute and is somewhat redundant with marital status.\n",
    "    - Wife, Ownchild, Husband, Notinfamily, Otherrelative, Unmarried.\n",
    "- race : individual’s race.\n",
    "    - AsianPacIslander, AmerIndianEskimo, Black, White, Other.\n",
    "- sex: the biological sex of the individual.\n",
    "    - Male, Female.\n",
    "- capital-gain: capital gains for an individual.\n",
    "    - Integer greater than or equal to 0.\n",
    "- capital-loss: capital loss for an individual.\n",
    "    - Integer greater than or equal to 0.\n",
    "- hours-per-week: the hours an individual has reported to work per week.\n",
    "    - continuous.\n",
    "- native-country: country of origin for an individual.\n",
    "    - UnitedStates, Cambodia, England, PuertoRico, Canada, Germany, OutlyingUS(GuamUSVIetc), India, Japan,  Greece, South, China, Cuba, Iran, Honduras, Philippines, Italy, Poland, Jamaica, Vietnam, Mexico, Portugal,\n",
    "Ireland, France, DominicanRepublic, Laos, Ecuador, Taiwan, Haiti, Columbia, Hungary, Guatemala, Nicaragua, Scotland, Thailand, Yugoslavia, ElSalvador, Trinadad&Tobago, Peru, Hong, HolandNetherlands.\n",
    "- income: whether or not an individual makes more than $50,000 annually. Label attribute.\n",
    "    - <=50k, >50k.\n",
    "\n",
    "The dataset contains missing values that are marked with a question mark character (?)"
   ]
  },
  {
   "cell_type": "code",
   "execution_count": 4,
   "metadata": {},
   "outputs": [
    {
     "name": "stderr",
     "output_type": "stream",
     "text": [
      "                                                                                \r"
     ]
    },
    {
     "name": "stdout",
     "output_type": "stream",
     "text": [
      "+---+---+---------+------+------------+---------------+------------------+-----------------+------------+-----+------+------------+------------+--------------+--------------+------+\n",
      "|x  |age|workclass|fnlwgt|education   |educational-num|marital-status    |occupation       |relationship|race |gender|capital-gain|capital-loss|hours-per-week|native-country|income|\n",
      "+---+---+---------+------+------------+---------------+------------------+-----------------+------------+-----+------+------------+------------+--------------+--------------+------+\n",
      "|1  |25 |Private  |226802|11th        |7              |Never-married     |Machine-op-inspct|Own-child   |Black|Male  |0           |0           |40            |United-States |<=50K |\n",
      "|2  |38 |Private  |89814 |HS-grad     |9              |Married-civ-spouse|Farming-fishing  |Husband     |White|Male  |0           |0           |50            |United-States |<=50K |\n",
      "|3  |28 |Local-gov|336951|Assoc-acdm  |12             |Married-civ-spouse|Protective-serv  |Husband     |White|Male  |0           |0           |40            |United-States |>50K  |\n",
      "|4  |44 |Private  |160323|Some-college|10             |Married-civ-spouse|Machine-op-inspct|Husband     |Black|Male  |7688        |0           |40            |United-States |>50K  |\n",
      "|5  |18 |?        |103497|Some-college|10             |Never-married     |?                |Own-child   |White|Female|0           |0           |30            |United-States |<=50K |\n",
      "+---+---+---------+------+------------+---------------+------------------+-----------------+------------+-----+------+------------+------------+--------------+--------------+------+\n",
      "only showing top 5 rows\n",
      "\n"
     ]
    }
   ],
   "source": [
    "df = spark.read.csv(\"data/adult.csv\", header=True, inferSchema=True)\n",
    "\n",
    "#df.printSchema()\n",
    "df.show(5, truncate=False)\n"
   ]
  },
  {
   "cell_type": "code",
   "execution_count": 3,
   "metadata": {},
   "outputs": [
    {
     "name": "stderr",
     "output_type": "stream",
     "text": [
      "                                                                                \r"
     ]
    },
    {
     "name": "stdout",
     "output_type": "stream",
     "text": [
      "+-------+------------------+------------------+-----------+------------------+------------+------------------+--------------+----------------+------------+------------------+------+------------------+-----------------+------------------+--------------+------+\n",
      "|summary|                 x|               age|  workclass|            fnlwgt|   education|   educational-num|marital-status|      occupation|relationship|              race|gender|      capital-gain|     capital-loss|    hours-per-week|native-country|income|\n",
      "+-------+------------------+------------------+-----------+------------------+------------+------------------+--------------+----------------+------------+------------------+------+------------------+-----------------+------------------+--------------+------+\n",
      "|  count|             48842|             48842|      48842|             48842|       48842|             48842|         48842|           48842|       48842|             48842| 48842|             48842|            48842|             48842|         48842| 48842|\n",
      "|   mean|           24421.5| 38.64358543876172|       null|189664.13459727284|        null|10.078088530363212|          null|            null|        null|              null|  null|1079.0676262233324|87.50231358257237|40.422382375824085|          null|  null|\n",
      "| stddev|14099.615260708357|13.710509934443525|       null|105604.02542315757|        null| 2.570972755592259|          null|            null|        null|              null|  null| 7452.019057655418| 403.004552124359|12.391444024252312|          null|  null|\n",
      "|    min|                 1|                17|          ?|             12285|        10th|                 1|      Divorced|               ?|     Husband|Amer-Indian-Eskimo|Female|                 0|                0|                 1|             ?| <=50K|\n",
      "|    max|             48842|                90|Without-pay|           1490400|Some-college|                16|       Widowed|Transport-moving|        Wife|             White|  Male|             99999|             4356|                99|    Yugoslavia|  >50K|\n",
      "+-------+------------------+------------------+-----------+------------------+------------+------------------+--------------+----------------+------------+------------------+------+------------------+-----------------+------------------+--------------+------+\n",
      "\n"
     ]
    }
   ],
   "source": [
    "df.describe().show()"
   ]
  },
  {
   "cell_type": "code",
   "execution_count": 5,
   "metadata": {},
   "outputs": [
    {
     "name": "stderr",
     "output_type": "stream",
     "text": [
      "[Stage 3:=============================>                             (1 + 1) / 2]\r"
     ]
    },
    {
     "name": "stdout",
     "output_type": "stream",
     "text": [
      "+-------+------------------+\n",
      "|summary|               age|\n",
      "+-------+------------------+\n",
      "|  count|             48842|\n",
      "|   mean| 38.64358543876172|\n",
      "| stddev|13.710509934443525|\n",
      "|    min|                17|\n",
      "|    max|                90|\n",
      "+-------+------------------+\n",
      "\n"
     ]
    },
    {
     "name": "stderr",
     "output_type": "stream",
     "text": [
      "                                                                                \r"
     ]
    }
   ],
   "source": [
    "df.describe('age').show()"
   ]
  },
  {
   "cell_type": "code",
   "execution_count": 11,
   "metadata": {},
   "outputs": [
    {
     "name": "stdout",
     "output_type": "stream",
     "text": [
      "+------+-----+\n",
      "|income|count|\n",
      "+------+-----+\n",
      "| <=50K|37155|\n",
      "|  >50K|11687|\n",
      "+------+-----+\n",
      "\n",
      "+------+-----+------------------+\n",
      "|income|count|        percentage|\n",
      "+------+-----+------------------+\n",
      "| <=50K|37155| 76.07182343065395|\n",
      "|  >50K|11687|23.928176569346054|\n",
      "+------+-----+------------------+\n",
      "\n"
     ]
    }
   ],
   "source": [
    "# Computing the percentage of \"<=50K\" and \">50K\"\n",
    "\n",
    "total = df.count()\n",
    "df_aux = df.groupBy(\"income\").count()\n",
    "#df_aux.show()\n",
    "\n",
    "# In the code below we use the bracket notation to assess the count column because count is also a function.\n",
    "# Using  df_aux.count would cause an error in this case. The bracket notation always works!\n",
    "df2 = df_aux.withColumn(\"percentage\", df_aux[\"count\"] * 100 / total)\n",
    "df2.show()\n",
    "\n",
    "#Alternative\n",
    "#rdd = df_aux.rdd.map(lambda x: (x[\"income\"], x[\"count\"] / total * 100))\n",
    "#rdd.foreach(print)"
   ]
  },
  {
   "cell_type": "code",
   "execution_count": 12,
   "metadata": {},
   "outputs": [
    {
     "name": "stderr",
     "output_type": "stream",
     "text": [
      "                                                                                \r"
     ]
    },
    {
     "name": "stdout",
     "output_type": "stream",
     "text": [
      "48842\n",
      "45222\n"
     ]
    },
    {
     "name": "stderr",
     "output_type": "stream",
     "text": [
      "                                                                                \r"
     ]
    }
   ],
   "source": [
    "\n",
    "#print(df.count())\n",
    "#workclass_distinct_values = df.select('workclass').distinct().collect()\n",
    "#workclass_distinct_values\n",
    "#df2 = df.filter(df.workclass != '?')\n",
    "#print(df2.count())\n",
    "\n",
    "# We would need to do this for all features with '?' values\n",
    "\n",
    "# Alternatively, we can edit the dataset file replacing all ',?,' by ',,' and then:\n",
    "\n",
    "df = spark.read.csv(\"data/adult_NULL.csv\", header=True, inferSchema=True)\n",
    "\n",
    "print(df.count())\n",
    "df = df.dropna()\n",
    "print(df.count())"
   ]
  },
  {
   "cell_type": "code",
   "execution_count": 4,
   "metadata": {},
   "outputs": [
    {
     "name": "stderr",
     "output_type": "stream",
     "text": [
      "                                                                                \r"
     ]
    },
    {
     "data": {
      "image/png": "[encoded data removed]",
      "text/plain": [
       "<Figure size 640x480 with 1 Axes>"
      ]
     },
     "metadata": {},
     "output_type": "display_data"
    }
   ],
   "source": [
    "# Plotting age distribution. We need to install pandas: pip install pandas\n",
    "\n",
    "df_age = df.groupBy(\"age\").count().sort(\"age\", ascending=True)\n",
    "#df_age.show()\n",
    "\n",
    "import pandas as pd\n",
    "import matplotlib.pyplot as plt\n",
    "\n",
    "pdf = df_age.toPandas()\n",
    "\n",
    "pdf.plot(kind = 'scatter', x = 'age', y = 'count', color = 'blue')\n",
    "  \n",
    "# set the title\n",
    "plt.title('Age distribution')\n",
    "  \n",
    "# show the plot\n",
    "plt.show()\n"
   ]
  },
  {
   "cell_type": "code",
   "execution_count": 56,
   "metadata": {},
   "outputs": [
    {
     "data": {
      "image/png": "[encoded data removed]",
      "text/plain": [
       "<Figure size 640x480 with 1 Axes>"
      ]
     },
     "metadata": {},
     "output_type": "display_data"
    }
   ],
   "source": [
    "# Plotting highest level of education distribution.\n",
    "\n",
    "df_education = df.groupBy(\"education\").count().sort(\"education\", ascending=True)\n",
    "#df_education.show()\n",
    "\n",
    "import pandas as pd\n",
    "import matplotlib.pyplot as plt\n",
    "\n",
    "pdf = df_education.toPandas()\n",
    "\n",
    "pdf.plot(kind = 'bar', x = 'education', y = 'count', color = 'blue')\n",
    "  \n",
    "# set the title\n",
    "plt.title('Highest level of education distribution')\n",
    "  \n",
    "# show the plot\n",
    "plt.show()"
   ]
  },
  {
   "cell_type": "code",
   "execution_count": 58,
   "metadata": {},
   "outputs": [
    {
     "data": {
      "image/png": "[encoded data removed]",
      "text/plain": [
       "<Figure size 640x480 with 1 Axes>"
      ]
     },
     "metadata": {},
     "output_type": "display_data"
    }
   ],
   "source": [
    "edu_inc = df.crosstab('education', 'income').sort('education_income')\n",
    "\n",
    "import pandas as pd\n",
    "import matplotlib.pyplot as plt\n",
    "\n",
    "pdf = edu_inc.toPandas()\n",
    "\n",
    "pdf.plot(kind = 'bar', x = 'education_income', y = ['<=50K', '>50K'], color = ['blue', 'red'])\n",
    "  \n",
    "# set the title\n",
    "plt.title('Highest level of education distribution')\n",
    "  \n",
    "# show the plot\n",
    "plt.show()"
   ]
  },
  {
   "cell_type": "code",
   "execution_count": 33,
   "metadata": {},
   "outputs": [
    {
     "name": "stdout",
     "output_type": "stream",
     "text": [
      "+--------------------+------------------+------------------+\n",
      "|      marital-status| avg(capital-loss)| avg(capital-gain)|\n",
      "+--------------------+------------------+------------------+\n",
      "|           Separated|56.618954248366016| 581.8424836601307|\n",
      "|       Never-married| 54.12607805422846|  384.382639449029|\n",
      "|Married-spouse-ab...| 63.18471337579618| 629.0047770700637|\n",
      "|            Divorced| 67.65430423639378| 793.6755615860094|\n",
      "|             Widowed|  81.6205533596838| 603.6442687747035|\n",
      "|   Married-AF-spouse| 84.75675675675676|2971.6216216216217|\n",
      "|  Married-civ-spouse|120.61950936145493|1739.7006121810625|\n",
      "+--------------------+------------------+------------------+\n",
      "\n"
     ]
    }
   ],
   "source": [
    "df.groupby('marital-status').agg({'capital-gain': 'mean', 'capital-loss': 'mean'}).show()"
   ]
  },
  {
   "cell_type": "code",
   "execution_count": 17,
   "metadata": {},
   "outputs": [
    {
     "name": "stdout",
     "output_type": "stream",
     "text": [
      "root\n",
      " |-- age: integer (nullable = true)\n",
      " |-- workclass: string (nullable = true)\n",
      " |-- fnlwgt: integer (nullable = true)\n",
      " |-- education: string (nullable = true)\n",
      " |-- marital-status: string (nullable = true)\n",
      " |-- occupation: string (nullable = true)\n",
      " |-- relationship: string (nullable = true)\n",
      " |-- race: string (nullable = true)\n",
      " |-- gender: string (nullable = true)\n",
      " |-- capital-gain: integer (nullable = true)\n",
      " |-- capital-loss: integer (nullable = true)\n",
      " |-- hours-per-week: integer (nullable = true)\n",
      " |-- native-country: string (nullable = true)\n",
      " |-- income: string (nullable = true)\n",
      "\n"
     ]
    }
   ],
   "source": [
    "df = df.drop('x', 'educational-num')\n",
    "df.printSchema()"
   ]
  },
  {
   "cell_type": "code",
   "execution_count": 18,
   "metadata": {},
   "outputs": [
    {
     "name": "stdout",
     "output_type": "stream",
     "text": [
      "root\n",
      " |-- age: integer (nullable = true)\n",
      " |-- workclass: string (nullable = true)\n",
      " |-- fnlwgt: integer (nullable = true)\n",
      " |-- education: string (nullable = true)\n",
      " |-- marital-status: string (nullable = true)\n",
      " |-- occupation: string (nullable = true)\n",
      " |-- relationship: string (nullable = true)\n",
      " |-- race: string (nullable = true)\n",
      " |-- gender: string (nullable = true)\n",
      " |-- capital-gain: integer (nullable = true)\n",
      " |-- capital-loss: integer (nullable = true)\n",
      " |-- hours-per-week: integer (nullable = true)\n",
      " |-- native-country: string (nullable = true)\n",
      " |-- income: string (nullable = true)\n",
      " |-- age-square: double (nullable = true)\n",
      "\n"
     ]
    }
   ],
   "source": [
    "from pyspark.sql.functions import *\n",
    "\n",
    "df = df.withColumn('age-square', col('age') ** 2)\n",
    "\n",
    "df.printSchema()"
   ]
  },
  {
   "cell_type": "code",
   "execution_count": 19,
   "metadata": {},
   "outputs": [
    {
     "data": {
      "text/plain": [
       "Row(age=25, age-square=625.0, workclass='Private', fnlwgt=226802, education='11th', marital-status='Never-married', occupation='Machine-op-inspct', relationship='Own-child', race='Black', gender='Male', capital-gain=0, capital-loss=0, hours-per-week=40, native-country='United-States', income='<=50K')"
      ]
     },
     "execution_count": 19,
     "metadata": {},
     "output_type": "execute_result"
    }
   ],
   "source": [
    "#Just to reorganize the columns. It could be used to select jsut the ones that we want to consider.\n",
    "\n",
    "COLUMNS = ['age', 'age-square', 'workclass', 'fnlwgt', 'education', 'marital-status',\n",
    "           'occupation', 'relationship', 'race', 'gender', 'capital-gain', 'capital-loss',\n",
    "           'hours-per-week', 'native-country', 'income']\n",
    "df = df.select(COLUMNS)\n",
    "df.first()"
   ]
  },
  {
   "cell_type": "code",
   "execution_count": 20,
   "metadata": {},
   "outputs": [
    {
     "name": "stderr",
     "output_type": "stream",
     "text": [
      "[Stage 51:=============================>                            (1 + 1) / 2]\r"
     ]
    },
    {
     "name": "stdout",
     "output_type": "stream",
     "text": [
      "+--------------------+-----+\n",
      "|      native-country|count|\n",
      "+--------------------+-----+\n",
      "|  Holand-Netherlands|    1|\n",
      "|             Hungary|   18|\n",
      "|            Honduras|   19|\n",
      "|            Scotland|   20|\n",
      "|                Laos|   21|\n",
      "|Outlying-US(Guam-...|   22|\n",
      "|          Yugoslavia|   23|\n",
      "|     Trinadad&Tobago|   26|\n",
      "|            Cambodia|   26|\n",
      "|                Hong|   28|\n",
      "|            Thailand|   29|\n",
      "|              France|   36|\n",
      "|             Ireland|   36|\n",
      "|             Ecuador|   43|\n",
      "|                Peru|   45|\n",
      "|           Nicaragua|   48|\n",
      "|              Greece|   49|\n",
      "|              Taiwan|   55|\n",
      "|                Iran|   56|\n",
      "|            Portugal|   62|\n",
      "+--------------------+-----+\n",
      "only showing top 20 rows\n",
      "\n"
     ]
    },
    {
     "name": "stderr",
     "output_type": "stream",
     "text": [
      "                                                                                \r"
     ]
    }
   ],
   "source": [
    "df.groupBy(\"native-country\").count().sort(\"count\", ascending=True).show()\n",
    "\n",
    "#Alternative\n",
    "#df.groupby('native-country').agg({'native-country': 'count'}).sort(asc(\"count(native-country)\")).show()"
   ]
  },
  {
   "cell_type": "code",
   "execution_count": 21,
   "metadata": {},
   "outputs": [],
   "source": [
    "# It is not useful to have one value that occurs only once\n",
    "\n",
    "df = df.filter(df['native-country'] !=\t'Holand-Netherlands')"
   ]
  },
  {
   "cell_type": "code",
   "execution_count": 29,
   "metadata": {},
   "outputs": [],
   "source": [
    "from pyspark.ml import Pipeline\n",
    "from pyspark.ml.feature import StringIndexer, OneHotEncoder\n",
    "\n",
    "CATE_FEATURES = ['workclass', 'education', 'marital-status', 'occupation', 'relationship', 'race', 'gender', 'native-country']\n",
    "\n",
    "stages = [] # stages in our Pipeline\n",
    "\n",
    "for categoricalCol in CATE_FEATURES:\n",
    "    stringIndexer = StringIndexer(inputCol=categoricalCol, outputCol=categoricalCol + \"x\")\n",
    "    encoder = OneHotEncoder(inputCols=[stringIndexer.getOutputCol()], outputCols=[categoricalCol + \"_classVec\"])\n",
    "    stages += [stringIndexer, encoder]\n",
    "\n",
    "#df.columns\n",
    "#df.show(5)"
   ]
  },
  {
   "cell_type": "code",
   "execution_count": 30,
   "metadata": {},
   "outputs": [],
   "source": [
    "# Convert label into label indices using the StringIndexer\n",
    "label_stringIdx =  StringIndexer(inputCol=\"income\", outputCol=\"newlabel\")\n",
    "stages += [label_stringIdx]"
   ]
  },
  {
   "cell_type": "code",
   "execution_count": 31,
   "metadata": {},
   "outputs": [
    {
     "data": {
      "text/plain": [
       "['workclass_classVec',\n",
       " 'education_classVec',\n",
       " 'marital-status_classVec',\n",
       " 'occupation_classVec',\n",
       " 'relationship_classVec',\n",
       " 'race_classVec',\n",
       " 'gender_classVec',\n",
       " 'native-country_classVec',\n",
       " 'age',\n",
       " 'fnlwgt',\n",
       " 'capital-gain',\n",
       " 'capital-loss',\n",
       " 'hours-per-week']"
      ]
     },
     "execution_count": 31,
     "metadata": {},
     "output_type": "execute_result"
    }
   ],
   "source": [
    "CONTI_FEATURES  = ['age', 'fnlwgt','capital-gain', 'capital-loss', 'hours-per-week']\n",
    "assemblerInputs = [c + \"_classVec\" for c in CATE_FEATURES] + CONTI_FEATURES\n",
    "assemblerInputs"
   ]
  },
  {
   "cell_type": "code",
   "execution_count": 32,
   "metadata": {},
   "outputs": [],
   "source": [
    "from pyspark.ml.feature import VectorAssembler\n",
    "\n",
    "assembler = VectorAssembler(inputCols=assemblerInputs, outputCol=\"features\")\n",
    "stages += [assembler]"
   ]
  },
  {
   "cell_type": "code",
   "execution_count": 56,
   "metadata": {},
   "outputs": [],
   "source": [
    "# Create a pipeline\n",
    "\n",
    "pipeline = Pipeline(stages=stages)\n",
    "pipelineModel = pipeline.fit(df)\n",
    "model = pipelineModel.transform(df)"
   ]
  },
  {
   "cell_type": "code",
   "execution_count": 34,
   "metadata": {},
   "outputs": [
    {
     "name": "stdout",
     "output_type": "stream",
     "text": [
      "root\n",
      " |-- age: integer (nullable = true)\n",
      " |-- age-square: double (nullable = true)\n",
      " |-- workclass: string (nullable = true)\n",
      " |-- fnlwgt: integer (nullable = true)\n",
      " |-- education: string (nullable = true)\n",
      " |-- marital-status: string (nullable = true)\n",
      " |-- occupation: string (nullable = true)\n",
      " |-- relationship: string (nullable = true)\n",
      " |-- race: string (nullable = true)\n",
      " |-- gender: string (nullable = true)\n",
      " |-- capital-gain: integer (nullable = true)\n",
      " |-- capital-loss: integer (nullable = true)\n",
      " |-- hours-per-week: integer (nullable = true)\n",
      " |-- native-country: string (nullable = true)\n",
      " |-- income: string (nullable = true)\n",
      " |-- workclassx: double (nullable = false)\n",
      " |-- workclass_classVec: vector (nullable = true)\n",
      " |-- educationx: double (nullable = false)\n",
      " |-- education_classVec: vector (nullable = true)\n",
      " |-- marital-statusx: double (nullable = false)\n",
      " |-- marital-status_classVec: vector (nullable = true)\n",
      " |-- occupationx: double (nullable = false)\n",
      " |-- occupation_classVec: vector (nullable = true)\n",
      " |-- relationshipx: double (nullable = false)\n",
      " |-- relationship_classVec: vector (nullable = true)\n",
      " |-- racex: double (nullable = false)\n",
      " |-- race_classVec: vector (nullable = true)\n",
      " |-- genderx: double (nullable = false)\n",
      " |-- gender_classVec: vector (nullable = true)\n",
      " |-- native-countryx: double (nullable = false)\n",
      " |-- native-country_classVec: vector (nullable = true)\n",
      " |-- newlabel: double (nullable = false)\n",
      " |-- features: vector (nullable = true)\n",
      "\n"
     ]
    }
   ],
   "source": [
    "model.printSchema()\n",
    "#model.first()\n",
    "#model"
   ]
  },
  {
   "cell_type": "code",
   "execution_count": 57,
   "metadata": {},
   "outputs": [],
   "source": [
    "from pyspark.ml.linalg import DenseVector\n",
    "input_data = model.rdd.map(lambda x: (x[\"newlabel\"], DenseVector(x[\"features\"])))"
   ]
  },
  {
   "cell_type": "code",
   "execution_count": 58,
   "metadata": {},
   "outputs": [
    {
     "name": "stderr",
     "output_type": "stream",
     "text": [
      "                                                                                \r"
     ]
    }
   ],
   "source": [
    "df_train = spark.createDataFrame(input_data, [\"label\", \"features\"])"
   ]
  },
  {
   "cell_type": "code",
   "execution_count": 38,
   "metadata": {},
   "outputs": [
    {
     "name": "stderr",
     "output_type": "stream",
     "text": [
      "                                                                                \r"
     ]
    },
    {
     "data": {
      "text/plain": [
       "Row(label=0.0, features=DenseVector([1.0, 0.0, 0.0, 0.0, 0.0, 0.0, 0.0, 0.0, 0.0, 0.0, 0.0, 1.0, 0.0, 0.0, 0.0, 0.0, 0.0, 0.0, 0.0, 0.0, 0.0, 0.0, 1.0, 0.0, 0.0, 0.0, 0.0, 0.0, 0.0, 0.0, 0.0, 0.0, 0.0, 1.0, 0.0, 0.0, 0.0, 0.0, 0.0, 0.0, 0.0, 0.0, 1.0, 0.0, 0.0, 0.0, 1.0, 0.0, 0.0, 1.0, 1.0, 0.0, 0.0, 0.0, 0.0, 0.0, 0.0, 0.0, 0.0, 0.0, 0.0, 0.0, 0.0, 0.0, 0.0, 0.0, 0.0, 0.0, 0.0, 0.0, 0.0, 0.0, 0.0, 0.0, 0.0, 0.0, 0.0, 0.0, 0.0, 0.0, 0.0, 0.0, 0.0, 0.0, 0.0, 0.0, 0.0, 0.0, 0.0, 25.0, 226802.0, 0.0, 0.0, 40.0]))"
      ]
     },
     "execution_count": 38,
     "metadata": {},
     "output_type": "execute_result"
    }
   ],
   "source": [
    "df_train.first()"
   ]
  },
  {
   "cell_type": "code",
   "execution_count": 59,
   "metadata": {},
   "outputs": [],
   "source": [
    "train_data, test_data = df_train.randomSplit([.8,.2],seed=1234)"
   ]
  },
  {
   "cell_type": "code",
   "execution_count": 41,
   "metadata": {},
   "outputs": [
    {
     "name": "stderr",
     "output_type": "stream",
     "text": [
      "[Stage 116:============================>                            (1 + 1) / 2]\r"
     ]
    },
    {
     "name": "stdout",
     "output_type": "stream",
     "text": [
      "+-----+-----+-----------------+\n",
      "|label|count|       percentage|\n",
      "+-----+-----+-----------------+\n",
      "|  0.0|27221|75.31263833554671|\n",
      "|  1.0| 8923| 24.6873616644533|\n",
      "+-----+-----+-----------------+\n",
      "\n"
     ]
    },
    {
     "name": "stderr",
     "output_type": "stream",
     "text": [
      "                                                                                \r"
     ]
    }
   ],
   "source": [
    "total = train_data.count()\n",
    "train_distribution = train_data.groupBy(\"label\").count()\n",
    "\n",
    "train_distribution = train_distribution.withColumn(\"percentage\", train_distribution[\"count\"] * 100 / total)\n",
    "train_distribution.show()\n"
   ]
  },
  {
   "cell_type": "code",
   "execution_count": 42,
   "metadata": {},
   "outputs": [
    {
     "name": "stderr",
     "output_type": "stream",
     "text": [
      "[Stage 122:============================>                            (1 + 1) / 2]\r"
     ]
    },
    {
     "name": "stdout",
     "output_type": "stream",
     "text": [
      "+-----+-----+------------------+\n",
      "|label|count|        percentage|\n",
      "+-----+-----+------------------+\n",
      "|  0.0| 6792| 74.82648452131761|\n",
      "|  1.0| 2285|25.173515478682383|\n",
      "+-----+-----+------------------+\n",
      "\n"
     ]
    },
    {
     "name": "stderr",
     "output_type": "stream",
     "text": [
      "                                                                                \r"
     ]
    }
   ],
   "source": [
    "total = test_data.count()\n",
    "test_distribution = test_data.groupBy(\"label\").count()\n",
    "\n",
    "test_distribution = test_distribution.withColumn(\"percentage\", test_distribution[\"count\"] * 100 / total)\n",
    "test_distribution.show()"
   ]
  },
  {
   "cell_type": "code",
   "execution_count": 60,
   "metadata": {},
   "outputs": [
    {
     "name": "stderr",
     "output_type": "stream",
     "text": [
      "                                                                                \r"
     ]
    }
   ],
   "source": [
    "from pyspark.ml.classification import LogisticRegression\n",
    "\n",
    "# Initialize lr\n",
    "lr = LogisticRegression(labelCol=\"label\",\n",
    "                        featuresCol=\"features\",\n",
    "                        maxIter=10,\n",
    "                        regParam=0.3)\n",
    "\n",
    "# Fit the data to the model\n",
    "linearModel = lr.fit(train_data)"
   ]
  },
  {
   "cell_type": "code",
   "execution_count": 44,
   "metadata": {},
   "outputs": [
    {
     "name": "stdout",
     "output_type": "stream",
     "text": [
      "Coefficients: [-0.050081705799624565,-0.08287815443744756,0.0231697895760858,-0.03241854023402773,0.26534026091556634,0.23205148389181388,-0.17782023305968506,-0.04431979938105965,0.29700097453849605,0.4365949055610956,0.015505149108524583,-0.2697331582419309,0.047614536413175076,-0.3118010419588388,-0.380852546220212,0.6283673654880163,-0.3397710710987668,-0.21899741494941527,0.6561168875680297,-0.3313750712176708,-0.34543247413537653,0.40479365026128394,-0.3109476354611445,-0.178479657932363,-0.1933283605951043,-0.1550133825428124,-0.12853622443477286,-0.07319513434769548,0.27544139504316095,0.34573872924293175,-0.10333585570395043,0.0704430907546725,-0.2736058351976691,-0.1895310071604358,-0.09482678205619116,-0.25901830979651685,-0.31636414009588815,0.12807840518732216,0.08535721380067686,-0.27081414573627083,0.33890937367686397,-0.18768293397071045,-0.2876603439589654,-0.21880639228717522,0.46087318641637925,0.0840683998426612,-0.1045111325533662,0.054909272508228434,-0.18239552598871203,0.18540908732534037,0.09201980258867111,-0.27842394082900357,0.08285783479956613,0.06993152876807937,-0.1789486730360522,0.17867151916019763,-0.21003486436871327,0.12936573021911496,-0.07458129148331487,0.21132461359968108,-0.034277520228654074,-0.0249598342496771,-0.1496634593995072,0.11122316095649741,-0.2549444162569779,0.14108226079519878,-0.20352194067416812,-0.22234862791714233,-0.3496376881026964,-0.09549221680792697,-0.11247586612143196,-0.05187765691632977,0.1225787725660609,0.12019090463897401,0.1561309707069367,-0.1940578801703015,-0.24198733983068835,-0.1723030131536963,0.25057076135340756,0.21595542248207722,-0.11188277695678227,0.0318653055212084,0.23882356824546663,-0.4804045980289897,0.0385952455278954,-0.25932753800459196,-0.24684265656700013,-0.3214291490666925,-0.08794632753880267,0.00873063149782009,1.1733243853488193e-07,1.9330264160589534e-05,0.00023169091835138986,0.010001596507780286]\n",
      "Intercept: -2.46741481356435\n"
     ]
    }
   ],
   "source": [
    "# Print the coefficients and intercept for logistic regression\n",
    "print(\"Coefficients: \" + str(linearModel.coefficients))\n",
    "print(\"Intercept: \" + str(linearModel.intercept))"
   ]
  },
  {
   "cell_type": "code",
   "execution_count": 67,
   "metadata": {},
   "outputs": [
    {
     "name": "stderr",
     "output_type": "stream",
     "text": [
      "[Stage 509:============================>                            (1 + 1) / 2]\r"
     ]
    },
    {
     "name": "stdout",
     "output_type": "stream",
     "text": [
      "0.8159083397598326\n"
     ]
    },
    {
     "name": "stderr",
     "output_type": "stream",
     "text": [
      "[Stage 514:============================>                            (1 + 1) / 2]\r"
     ]
    },
    {
     "name": "stdout",
     "output_type": "stream",
     "text": [
      "0.8159083397598326\n"
     ]
    },
    {
     "name": "stderr",
     "output_type": "stream",
     "text": [
      "                                                                                \r"
     ]
    }
   ],
   "source": [
    "from pyspark.ml.evaluation import MulticlassClassificationEvaluator\n",
    "\n",
    "predictions = linearModel.transform(test_data)\n",
    "#predictions.printSchema()\n",
    "\n",
    "selected = predictions.select(\"label\", \"prediction\", \"probability\")\n",
    "#selected.show()\n",
    "\n",
    "evaluator = MulticlassClassificationEvaluator(\n",
    "    labelCol=\"label\", predictionCol=\"prediction\", metricName=\"accuracy\")\n",
    "\n",
    "accuracy = evaluator.evaluate(predictions)\n",
    "\n",
    "print(accuracy)\n",
    "\n",
    "#Alternative\n",
    "#print(predictions.filter(predictions.label == predictions.prediction).count() / predictions.count())"
   ]
  },
  {
   "cell_type": "code",
   "execution_count": 64,
   "metadata": {},
   "outputs": [
    {
     "name": "stderr",
     "output_type": "stream",
     "text": [
      "                                                                                \r"
     ]
    },
    {
     "name": "stdout",
     "output_type": "stream",
     "text": [
      "0.8861390862721775\n",
      "areaUnderROC\n"
     ]
    }
   ],
   "source": [
    "### Use ROC \n",
    "from pyspark.ml.evaluation import BinaryClassificationEvaluator\n",
    "\n",
    "# Evaluate model\n",
    "evaluator = BinaryClassificationEvaluator(rawPredictionCol=\"rawPrediction\")\n",
    "print(evaluator.evaluate(predictions))\n",
    "print(evaluator.getMetricName())"
   ]
  },
  {
   "cell_type": "code",
   "execution_count": 53,
   "metadata": {},
   "outputs": [
    {
     "name": "stderr",
     "output_type": "stream",
     "text": [
      "                                                                                \r"
     ]
    },
    {
     "name": "stdout",
     "output_type": "stream",
     "text": [
      "Time to train model: 632.626 seconds\n"
     ]
    }
   ],
   "source": [
    "from pyspark.ml.tuning import ParamGridBuilder, CrossValidator\n",
    "\n",
    "# Create ParamGrid for Cross Validation\n",
    "paramGrid = (ParamGridBuilder()\n",
    "             .addGrid(lr.regParam, [0.01, 0.5])\n",
    "             .build())\n",
    "\n",
    "from time import *\n",
    "start_time = time()\n",
    "\n",
    "# Create 5-fold CrossValidator\n",
    "cv = CrossValidator(estimator=lr,\n",
    "                    estimatorParamMaps=paramGrid,\n",
    "                    evaluator=evaluator, numFolds=5)\n",
    "\n",
    "# Run cross validations\n",
    "cvModel = cv.fit(train_data)\n",
    "# likely take a fair amount of time\n",
    "end_time = time()\n",
    "elapsed_time = end_time - start_time\n",
    "print(\"Time to train model: %.3f seconds\" % elapsed_time)"
   ]
  }
 ],
 "metadata": {
  "kernelspec": {
   "display_name": "Python 3.10.6 64-bit",
   "language": "python",
   "name": "python3"
  },
  "language_info": {
   "codemirror_mode": {
    "name": "ipython",
    "version": 3
   },
   "file_extension": ".py",
   "mimetype": "text/x-python",
   "name": "python",
   "nbconvert_exporter": "python",
   "pygments_lexer": "ipython3",
   "version": "3.10.6"
  },
  "orig_nbformat": 4,
  "vscode": {
   "interpreter": {
    "hash": "916dbcbb3f70747c44a77c7bcd40155683ae19c65e1c03b4aa3499c5328201f1"
   }
  }
 },
 "nbformat": 4,
 "nbformat_minor": 2
}
